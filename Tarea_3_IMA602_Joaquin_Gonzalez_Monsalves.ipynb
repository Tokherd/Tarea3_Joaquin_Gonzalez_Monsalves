{
 "cells": [
  {
   "cell_type": "markdown",
   "id": "8f6d9340",
   "metadata": {},
   "source": [
    "# Estudiante: Joaquín Gonzalez Monsalves\n",
    "# IMA602-1: HERRAMIENTAS BASICAS PARA EL ANALISIS DE DATOS"
   ]
  },
  {
   "cell_type": "markdown",
   "id": "e916984f",
   "metadata": {},
   "source": [
    "# Problema 1"
   ]
  },
  {
   "cell_type": "code",
   "execution_count": 54,
   "id": "5a0391f5",
   "metadata": {},
   "outputs": [],
   "source": [
    "from numpy import * # para usar inf"
   ]
  },
  {
   "cell_type": "code",
   "execution_count": 55,
   "id": "bb5ae136",
   "metadata": {},
   "outputs": [],
   "source": [
    "def calcular_distancia(punto1, punto2):                                 # funcion de calcular distancia entre 2 puntos\n",
    "    distancia=((punto1[0]-punto2[0])**2+(punto1[1]-punto2[1])**2)**(1/2) #se aplica la formula de distancia\n",
    "    return distancia                                                     # retorna el valor"
   ]
  },
  {
   "cell_type": "code",
   "execution_count": 56,
   "id": "65a3d133",
   "metadata": {},
   "outputs": [
    {
     "name": "stdout",
     "output_type": "stream",
     "text": [
      "Distancia 3.1622776601683795\n"
     ]
    }
   ],
   "source": [
    "#ejemplo de la funcion calcular_distancia\n",
    "punto1=(0,0)\n",
    "punto2=(1,3)\n",
    "distancia1=calcular_distancia(punto1,punto2)\n",
    "print(\"Distancia\", distancia1)"
   ]
  },
  {
   "cell_type": "code",
   "execution_count": 57,
   "id": "454e0be6",
   "metadata": {},
   "outputs": [],
   "source": [
    "def calcular_distancia_total(ruta):     #dada una ruta se calcula la distancia total de esta\n",
    "    distancia_total=0                   #al iniciar el recorrido es 0\n",
    "    n=len(ruta)                         #para saber el largo de la ruta\n",
    "    for i in range(0,n-1):              #de manera iterada se suma la distancia entre 2 puntos\n",
    "        distancia_total=distancia_total+calcular_distancia(ruta[i],ruta[i+1]) # se calcula la distancia entre el punti i esimo con el i+1 y se va sumando\n",
    "    return distancia_total              #retorna el valor de la distancia total\n",
    "        \n",
    "        "
   ]
  },
  {
   "cell_type": "code",
   "execution_count": 58,
   "id": "36270624",
   "metadata": {},
   "outputs": [
    {
     "name": "stdout",
     "output_type": "stream",
     "text": [
      "Distancia total 8.81913190966076\n"
     ]
    }
   ],
   "source": [
    "#ejemplo de calcular la distancia total de una ruta\n",
    "ruta=[(0,0),(1,3),(3,5),(5,3)]\n",
    "distancia_total=calcular_distancia_total(ruta)\n",
    "print(\"Distancia total\", distancia_total)\n"
   ]
  },
  {
   "cell_type": "code",
   "execution_count": 59,
   "id": "81538f7c",
   "metadata": {},
   "outputs": [
    {
     "name": "stdout",
     "output_type": "stream",
     "text": [
      "Distancia total 12.782484645209152\n"
     ]
    }
   ],
   "source": [
    "#ejemplo de calcular la distancia total de una ruta\n",
    "ruta=[(0,0),(3,5),(1,3),(5,2)]\n",
    "distancia_total=calcular_distancia_total(ruta)\n",
    "print(\"Distancia total\", distancia_total)\n"
   ]
  },
  {
   "cell_type": "code",
   "execution_count": 60,
   "id": "7bda090f",
   "metadata": {},
   "outputs": [
    {
     "name": "stdout",
     "output_type": "stream",
     "text": [
      "Distancia total 13.559608795926952\n"
     ]
    }
   ],
   "source": [
    "#ejemplo de calcular la distancia total de una ruta\n",
    "ruta=[(0,0),(3,5),(5,2),(1,3)]\n",
    "distancia_total=calcular_distancia_total(ruta)\n",
    "print(\"Distancia total\", distancia_total)"
   ]
  },
  {
   "cell_type": "code",
   "execution_count": 61,
   "id": "ed41f426",
   "metadata": {},
   "outputs": [],
   "source": [
    "def optimizacion_ruta(rutas):       # toma una lista de rutas y ve cual es la optima(la que recorre menos distancia)\n",
    "    n=len(rutas)                    # tamaño de la lista de todas las rutas\n",
    "    distancia_optimizada=inf        # se da un valor exagerado de este, para luego ser reemplazado por alguna de las rutas   \n",
    "    optima=[]                       # lista vacia que se rellena con la ruta optima\n",
    "    for i in range(n):\n",
    "        if calcular_distancia_total(rutas[i])<distancia_optimizada:  # si el valor de cada ruta es menor que la distancia optima, se cambia\n",
    "            distancia_optimizada=calcular_distancia_total(rutas[i])  # se asigna el nuevo valor de la distancia optima\n",
    "            optima=rutas[i]                                          # ruta optima asignada\n",
    "    return optima                                                    # retorna la ruta optima como una lista\n",
    "            "
   ]
  },
  {
   "cell_type": "code",
   "execution_count": 62,
   "id": "c6a41092",
   "metadata": {},
   "outputs": [
    {
     "name": "stdout",
     "output_type": "stream",
     "text": [
      "Ruta optimizada [(0, 0), (1, 3), (3, 5), (5, 2)]\n"
     ]
    }
   ],
   "source": [
    "# ejemplo de optimizacion de rutas\n",
    "rutas=[[(0,0),(1,3),(3,5),(5,2)],\n",
    "      [(0,0),(3,5),(1,3),(5,2)],\n",
    "      [(0,0),(3,5),(5,2),(1,3)]]\n",
    "ruta_optimizada=optimizacion_ruta(rutas)\n",
    "print(\"Ruta optimizada\", ruta_optimizada)"
   ]
  },
  {
   "cell_type": "markdown",
   "id": "ea47e0c5",
   "metadata": {},
   "source": [
    "# Problema 2"
   ]
  },
  {
   "cell_type": "code",
   "execution_count": 63,
   "id": "8b5ffe6a",
   "metadata": {},
   "outputs": [],
   "source": [
    "class libro():                             #se define la clase libro\n",
    "    def __init__(self,titulo,autor):       # se asignan sus atributos\n",
    "        self.titulo=titulo\n",
    "        self.autor=autor\n",
    "        self.disponibilidad=\"Si\"\n",
    "        \n",
    "    def obtener_titulo(self):              # metodo que obtiene el titulo del libro\n",
    "        return(self.titulo)\n",
    "    \n",
    "    def obtener_autor(self):               # metodo que obtiene el autor del libro\n",
    "        return (self.autor)\n",
    "    \n",
    "    def esta_disponible(self):             # metodo que dice si esta disponible el libro\n",
    "        return(self.disponibilidad) \n",
    "    \n",
    "    def libro_prestado(self):              # metodo que determina si el libro puede ser prestado o no\n",
    "        if self.disponibilidad==\"Si\":      # si esta disponible, se presta y se cambia su valor a \"No\"\n",
    "            print(\"El libro '{}',de autor {} ha sido prestado\".format(libro1.obtener_titulo(),libro1.obtener_autor()))\n",
    "            self.disponibilidad=\"No\"\n",
    "        else:                              # si no esta disponible lanza un mensaje que no esta disponible para prestamo\n",
    "            print(\"El libro {},de autor {} no esta disponible \".format(libro1.obtener_titulo(),libro1.obtener_autor()))\n",
    "    \n",
    "    def devolver_libro(self):              # metodo que devuelve el libro\n",
    "        if self.disponibilidad==\"Si\":      # si ya estaba disponible arroja un mensaje\n",
    "            print(\"Error el libro {},de autor {} ya estaba disponible\".format(libro1.obtener_titulo(),libro1.obtener_autor()))\n",
    "            \n",
    "        else:\n",
    "            self.disponibilidad=\"Si\"       # si es que se devuelve, se cambia la disponibilidad a \"Si\" y luego se muestra un mensaje\n",
    "            print(\"El libro {},de autor {} ha sido devuelto\".format(libro1.obtener_titulo(),libro1.obtener_autor()))\n",
    "            "
   ]
  },
  {
   "cell_type": "code",
   "execution_count": 64,
   "id": "bc51c002",
   "metadata": {},
   "outputs": [
    {
     "name": "stdout",
     "output_type": "stream",
     "text": [
      "Libro 1: Veinte poemas de amor y cancion desesperada de autor Pablo neruda\n",
      "Disponibilidad: Si\n",
      "Libro 2: Don quijote de la Mancha de autor Miguel de Cervantes\n",
      "Disponibilidad: Si\n"
     ]
    }
   ],
   "source": [
    "# se crean los elementos de la clase libro\n",
    "libro1=libro(\"Veinte poemas de amor y cancion desesperada\",\"Pablo neruda\")\n",
    "libro2=libro(\"Don quijote de la Mancha\",\"Miguel de Cervantes\")\n",
    "#informacion de los objetos libro1 y libro2\n",
    "print(\"Libro 1: {} de autor {}\".format(libro1.obtener_titulo(),libro1.obtener_autor()))\n",
    "print(\"Disponibilidad: {}\".format(libro1.esta_disponible()))\n",
    "#\n",
    "print(\"Libro 2: {} de autor {}\".format(libro2.obtener_titulo(),libro2.obtener_autor()))\n",
    "print(\"Disponibilidad: {}\".format(libro2.esta_disponible()))"
   ]
  },
  {
   "cell_type": "code",
   "execution_count": 65,
   "id": "2fcd90c7",
   "metadata": {},
   "outputs": [
    {
     "name": "stdout",
     "output_type": "stream",
     "text": [
      "El libro 'Veinte poemas de amor y cancion desesperada',de autor Pablo neruda ha sido prestado\n",
      "Libro 1: Veinte poemas de amor y cancion desesperada de autor Pablo neruda\n",
      "Disponibilidad: No\n"
     ]
    }
   ],
   "source": [
    "#pedir un libro prestado\n",
    "libro1.libro_prestado()\n",
    "#obtener informacion del libro prestado\n",
    "print(\"Libro 1: {} de autor {}\".format(libro1.obtener_titulo(),libro1.obtener_autor()))\n",
    "print(\"Disponibilidad: {}\".format(libro1.esta_disponible()))"
   ]
  },
  {
   "cell_type": "code",
   "execution_count": 66,
   "id": "cec4fa99",
   "metadata": {},
   "outputs": [
    {
     "name": "stdout",
     "output_type": "stream",
     "text": [
      "El libro Veinte poemas de amor y cancion desesperada,de autor Pablo neruda no esta disponible \n",
      "Libro 1: Veinte poemas de amor y cancion desesperada de autor Pablo neruda\n",
      "Disponibilidad: No\n"
     ]
    }
   ],
   "source": [
    "#volver a pedir un libro prestado\n",
    "libro1.libro_prestado()\n",
    "#obtener informacion del libro prestado\n",
    "print(\"Libro 1: {} de autor {}\".format(libro1.obtener_titulo(),libro1.obtener_autor()))\n",
    "print(\"Disponibilidad: {}\".format(libro1.esta_disponible()))"
   ]
  },
  {
   "cell_type": "code",
   "execution_count": 67,
   "id": "731ed715",
   "metadata": {},
   "outputs": [
    {
     "name": "stdout",
     "output_type": "stream",
     "text": [
      "El libro Veinte poemas de amor y cancion desesperada,de autor Pablo neruda ha sido devuelto\n",
      "Libro 1: Veinte poemas de amor y cancion desesperada de autor Pablo neruda\n",
      "Disponibilidad: Si\n"
     ]
    }
   ],
   "source": [
    "#Devolver el libro\n",
    "libro1.devolver_libro()\n",
    "print(\"Libro 1: {} de autor {}\".format(libro1.obtener_titulo(),libro1.obtener_autor()))\n",
    "print(\"Disponibilidad: {}\".format(libro1.esta_disponible()))"
   ]
  },
  {
   "cell_type": "code",
   "execution_count": 68,
   "id": "48c3ad13",
   "metadata": {},
   "outputs": [
    {
     "name": "stdout",
     "output_type": "stream",
     "text": [
      "Error el libro Veinte poemas de amor y cancion desesperada,de autor Pablo neruda ya estaba disponible\n",
      "Libro 1: Don quijote de la Mancha de autor Miguel de Cervantes\n",
      "Disponibilidad: Si\n"
     ]
    }
   ],
   "source": [
    "#Devolver un libro \n",
    "libro2.devolver_libro()\n",
    "print(\"Libro 1: {} de autor {}\".format(libro2.obtener_titulo(),libro2.obtener_autor()))\n",
    "print(\"Disponibilidad: {}\".format(libro2.esta_disponible()))"
   ]
  }
 ],
 "metadata": {
  "kernelspec": {
   "display_name": "Python 3 (ipykernel)",
   "language": "python",
   "name": "python3"
  },
  "language_info": {
   "codemirror_mode": {
    "name": "ipython",
    "version": 3
   },
   "file_extension": ".py",
   "mimetype": "text/x-python",
   "name": "python",
   "nbconvert_exporter": "python",
   "pygments_lexer": "ipython3",
   "version": "3.10.9"
  }
 },
 "nbformat": 4,
 "nbformat_minor": 5
}
